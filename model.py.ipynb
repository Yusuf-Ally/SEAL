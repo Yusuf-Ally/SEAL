{
 "cells": [
  {
   "cell_type": "markdown",
   "id": "458224ad",
   "metadata": {},
   "source": [
    "## Config"
   ]
  },
  {
   "cell_type": "code",
   "execution_count": 11,
   "id": "1b33c2a2",
   "metadata": {},
   "outputs": [],
   "source": [
    "no_classes = 25\n",
    "sequence_lenghth = 500\n",
    "sampling_freq = 44100\n",
    "n_fft = 2048\n",
    "mel_bands = 64\n",
    "batch_size = 64\n",
    "cnn_filter = 3\n",
    "gru_hidden_layers = 64\n",
    "dropout = 0.3"
   ]
  },
  {
   "cell_type": "markdown",
   "id": "2e415880",
   "metadata": {},
   "source": [
    "## Initialization"
   ]
  },
  {
   "cell_type": "code",
   "execution_count": 5,
   "id": "2ceaf1ad",
   "metadata": {},
   "outputs": [
    {
     "name": "stdout",
     "output_type": "stream",
     "text": [
      "Using cpu device\n"
     ]
    }
   ],
   "source": [
    "device = (\n",
    "    \"cuda\"\n",
    "    if torch.cuda.is_available()\n",
    "    else \"mps\"\n",
    "    if torch.backends.mps.is_available()\n",
    "    else \"cpu\"\n",
    ")\n",
    "print(f\"Using {device} device\")"
   ]
  },
  {
   "cell_type": "markdown",
   "id": "6e1bc430",
   "metadata": {},
   "source": [
    "## Create model"
   ]
  },
  {
   "cell_type": "code",
   "execution_count": 7,
   "id": "76db3910",
   "metadata": {},
   "outputs": [],
   "source": [
    "import torch\n",
    "import torch.nn as nn\n",
    "\n",
    "def clip_mse(output, target):\n",
    "\n",
    "    loss_function = torch.nn.MSELoss(reduction='mean')\n",
    "    loss = loss_function(output, target)\n",
    "\n",
    "    return loss\n",
    "\n",
    "\n",
    "class my_CRNN(nn.Module):\n",
    "    def __init__(self, classes_num, cnn_filters, rnn_hid, _dropout_rate):\n",
    "        super(my_CRNN, self).__init__()\n",
    "        self.conv1 = nn.Conv2d(in_channels=1, out_channels=cnn_filters, kernel_size=(3, 3), padding='same')\n",
    "        self.batch_norm1 = nn.BatchNorm2d(num_features=cnn_filters)\n",
    "        \n",
    "        self.conv2 = nn.Conv2d(in_channels=cnn_filters, out_channels=cnn_filters, kernel_size=(3, 3), padding='same')\n",
    "        self.batch_norm2 = nn.BatchNorm2d(num_features=cnn_filters)\n",
    "        \n",
    "        self.conv3 = nn.Conv2d(in_channels=cnn_filters, out_channels=cnn_filters, kernel_size=(3, 3), padding='same')\n",
    "        self.batch_norm3 = nn.BatchNorm2d(num_features=cnn_filters)\n",
    "        \n",
    "        self.pool1 = nn.MaxPool2d(kernel_size=(1, 8))\n",
    "        self.pool2 = nn.MaxPool2d(kernel_size=(1, 4))\n",
    "        self.pool3 = nn.MaxPool2d(kernel_size=(1, 2))\n",
    "        \n",
    "        self.dropout = nn.Dropout(_dropout_rate)\n",
    "\n",
    "        self.gru1 = nn.GRU(int(3*cnn_filters), rnn_hid, bidirectional=True, batch_first=True)\n",
    "\n",
    "        self.linear1 = nn.Linear(rnn_hid*2, rnn_hid)\n",
    "\n",
    "\n",
    "        self.linear2 = nn.Linear(rnn_hid, classes_num)\n",
    "\n",
    "    def forward(self, input):\n",
    "\n",
    "        x = self.conv1(input[:,None,:,:])\n",
    "\n",
    "        x = self.batch_norm1(x)\n",
    "        x = torch.relu(x)\n",
    "        x = self.pool1(x)\n",
    "        x = self.dropout(x)\n",
    "        \n",
    "        x = self.conv2(x)\n",
    "        x = self.batch_norm2(x)\n",
    "        x = torch.relu(x)\n",
    "        x = self.pool2(x)\n",
    "        x = self.dropout(x)\n",
    "\n",
    "        x = self.conv3(x)\n",
    "        x = self.batch_norm3(x)\n",
    "        x = torch.relu(x)\n",
    "        x = self.pool3(x)\n",
    "        x = self.dropout(x)\n",
    "\n",
    "        x = x.permute(0, 2, 1, 3)\n",
    "        x = x.reshape((x.shape[0], x.shape[1], -1))\n",
    "        \n",
    "        # Bidirectional layer\n",
    "        recurrent, _ = self.gru1(x)\n",
    "        x = self.linear1(recurrent)\n",
    "        x = self.linear2(x)\n",
    "        \n",
    "        return x"
   ]
  },
  {
   "cell_type": "code",
   "execution_count": 13,
   "id": "0a18463b",
   "metadata": {},
   "outputs": [
    {
     "name": "stdout",
     "output_type": "stream",
     "text": [
      "my_CRNN(\n",
      "  (conv1): Conv2d(1, 3, kernel_size=(3, 3), stride=(1, 1), padding=same)\n",
      "  (batch_norm1): BatchNorm2d(3, eps=1e-05, momentum=0.1, affine=True, track_running_stats=True)\n",
      "  (conv2): Conv2d(3, 3, kernel_size=(3, 3), stride=(1, 1), padding=same)\n",
      "  (batch_norm2): BatchNorm2d(3, eps=1e-05, momentum=0.1, affine=True, track_running_stats=True)\n",
      "  (conv3): Conv2d(3, 3, kernel_size=(3, 3), stride=(1, 1), padding=same)\n",
      "  (batch_norm3): BatchNorm2d(3, eps=1e-05, momentum=0.1, affine=True, track_running_stats=True)\n",
      "  (pool1): MaxPool2d(kernel_size=(1, 8), stride=(1, 8), padding=0, dilation=1, ceil_mode=False)\n",
      "  (pool2): MaxPool2d(kernel_size=(1, 4), stride=(1, 4), padding=0, dilation=1, ceil_mode=False)\n",
      "  (pool3): MaxPool2d(kernel_size=(1, 2), stride=(1, 2), padding=0, dilation=1, ceil_mode=False)\n",
      "  (dropout): Dropout(p=0.3, inplace=False)\n",
      "  (gru1): GRU(9, 64, batch_first=True, bidirectional=True)\n",
      "  (linear1): Linear(in_features=128, out_features=64, bias=True)\n",
      "  (linear2): Linear(in_features=64, out_features=25, bias=True)\n",
      ")\n"
     ]
    }
   ],
   "source": [
    "model = my_CRNN(classes_num=no_classes, cnn_filters=cnn_filter, rnn_hid=gru_hidden_layers, _dropout_rate=dropout)\n",
    "print(model)"
   ]
  },
  {
   "cell_type": "code",
   "execution_count": 14,
   "id": "4efa9ed1",
   "metadata": {},
   "outputs": [],
   "source": [
    "## Load and normalize data"
   ]
  },
  {
   "cell_type": "code",
   "execution_count": null,
   "id": "edfc15ca",
   "metadata": {},
   "outputs": [],
   "source": [
    "## Train"
   ]
  },
  {
   "cell_type": "code",
   "execution_count": 15,
   "id": "f161dfe4",
   "metadata": {},
   "outputs": [],
   "source": [
    "# Evaluate"
   ]
  }
 ],
 "metadata": {
  "kernelspec": {
   "display_name": "Python 3 (ipykernel)",
   "language": "python",
   "name": "python3"
  },
  "language_info": {
   "codemirror_mode": {
    "name": "ipython",
    "version": 3
   },
   "file_extension": ".py",
   "mimetype": "text/x-python",
   "name": "python",
   "nbconvert_exporter": "python",
   "pygments_lexer": "ipython3",
   "version": "3.7.16"
  }
 },
 "nbformat": 4,
 "nbformat_minor": 5
}
